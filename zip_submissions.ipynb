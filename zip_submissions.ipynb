{
 "cells": [
  {
   "attachments": {},
   "cell_type": "markdown",
   "metadata": {},
   "source": [
    "## Zip and name correctly the files predicted with XLM-T-based_final_submission.py\n"
   ]
  },
  {
   "cell_type": "code",
   "execution_count": 4,
   "metadata": {},
   "outputs": [],
   "source": [
    "from zipfile import ZipFile\n",
    "from pathlib import Path\n",
    "source_p = Path(\"results/predictions_3001\")\n",
    "target_p = Path(\"results/submissions_3001\")\n",
    "target_p.mkdir( exist_ok=True)\n",
    "l_convert = {\"LABEL_0\":\"negative\", \n",
    "             \"LABEL_1\": \"neutral\",\n",
    "             \"LABEL_2\": \"positive\"} # Not needed in the final\n",
    "            \n",
    "task = \"A\"\n",
    "for file_p in [f for f in source_p.iterdir() if f.suffix == \".json\"]: # Typo when creating filanames\n",
    "    # Recreate filename according to submission rules\n",
    "    language = file_p.stem.split(\"_\")[0]\n",
    "    if \"multi\" in language:\n",
    "        task = \"B\"\n",
    "    assert language != \"dev\"\n",
    "    new_f_name = f\"pred_{language}.tsv\" # \n",
    "    zip_name = f\"{task}_{language}.zip\"\n",
    "    if not Path(zip_name).is_file(): # SOme files were zipped earlier\n",
    "        with file_p.open() as rf:\n",
    "            tsv = rf.read().strip()\n",
    "            \n",
    "            with ZipFile(Path(target_p, zip_name), \"w\") as zf:\n",
    "                zf.writestr(new_f_name, tsv)\n",
    "\n",
    "            # with ZipFile(zip_name) as zf:\n",
    "        #     print(zip_name, zf.namelist())\n"
   ]
  }
 ],
 "metadata": {
  "kernelspec": {
   "display_name": "phdev",
   "language": "python",
   "name": "python3"
  },
  "language_info": {
   "codemirror_mode": {
    "name": "ipython",
    "version": 3
   },
   "file_extension": ".py",
   "mimetype": "text/x-python",
   "name": "python",
   "nbconvert_exporter": "python",
   "pygments_lexer": "ipython3",
   "version": "3.9.7"
  },
  "orig_nbformat": 4,
  "vscode": {
   "interpreter": {
    "hash": "700a218f876b011520bcab0bf4c4fd60938a4cf5c91c77ab574cb3838b05995c"
   }
  }
 },
 "nbformat": 4,
 "nbformat_minor": 2
}
